{
 "cells": [
  {
   "cell_type": "markdown",
   "id": "0c967cd6",
   "metadata": {},
   "source": [
    "# Basic Datasets\n",
    "\n",
    "This notebook generates very basic datasets and saves them as .csv"
   ]
  },
  {
   "cell_type": "code",
   "execution_count": null,
   "id": "d68581a7",
   "metadata": {},
   "outputs": [],
   "source": [
    "# imports \n",
    "from scipy import signal\n",
    "import matplotlib.pyplot as plt\n",
    "import numpy as np\n",
    "import pandas as pd\n",
    "\n",
    "SEQ_LEN = 10000"
   ]
  },
  {
   "cell_type": "markdown",
   "id": "baab8a68",
   "metadata": {},
   "source": [
    "## Simple Square Function \n",
    "\n",
    "sin fct with corresponding square fct.\n",
    "param: a\n",
    "\n",
    "- network input: sin + a param\n",
    "- network output: square fct "
   ]
  },
  {
   "cell_type": "code",
   "execution_count": null,
   "id": "8ef80d70",
   "metadata": {
    "scrolled": true
   },
   "outputs": [],
   "source": [
    "# ds modulation \n",
    "a = 2\n",
    "t = np.linspace(0, 10, SEQ_LEN, endpoint=False)\n",
    "sin = np.sin(np.pi * a * t)\n",
    "squ = signal.square(np.pi * a * t)\n",
    "param_a = [a] * SEQ_LEN\n",
    "\n",
    "plt.figure(figsize=(15,5))\n",
    "plt.subplot(2, 1, 1)\n",
    "plt.plot(t, sin)\n",
    "plt.ylim(-1.5, 1.5)\n",
    "\n",
    "plt.subplot(2, 1, 2)\n",
    "plt.plot(t, squ)\n",
    "plt.ylim(-1.5, 1.5)"
   ]
  },
  {
   "cell_type": "code",
   "execution_count": null,
   "id": "7792ac2f",
   "metadata": {},
   "outputs": [],
   "source": [
    "# export to csv\n",
    "df = pd.DataFrame()\n",
    "\n",
    "df[\"sin\"] = sin\n",
    "df[\"squ\"] = squ\n",
    "df[\"param_a\"] = param_a\n",
    "\n",
    "df.to_csv(\"datsimple_square.csv\")"
   ]
  },
  {
   "cell_type": "markdown",
   "id": "bd0df799",
   "metadata": {},
   "source": [
    "## Pulse-width modulated square function\n",
    "\n",
    "sin fct + modulating pulse width of a square fct \n",
    "\n",
    "- network input: sin + a param\n",
    "- network output: sqare fct"
   ]
  },
  {
   "cell_type": "code",
   "execution_count": null,
   "id": "b6281adf",
   "metadata": {},
   "outputs": [],
   "source": [
    "# ds modulation \n",
    "a = 1\n",
    "t = np.linspace(0, 10, SEQ_LEN, endpoint=False)\n",
    "sin = np.sin(np.pi * t)\n",
    "pwm = signal.square(sin * a * 30, duty=(sin + 1)/2)\n",
    "param_a = [a] * SEQ_LEN\n",
    "\n",
    "plt.figure(figsize=(15,5))\n",
    "plt.subplot(2, 1, 1)\n",
    "plt.plot(t, sin)\n",
    "plt.ylim(-1.5, 1.5)\n",
    "\n",
    "plt.subplot(2, 1, 2)\n",
    "plt.plot(t, pwm)\n",
    "plt.ylim(-1.5, 1.5)"
   ]
  },
  {
   "cell_type": "code",
   "execution_count": null,
   "id": "8fc95ad7",
   "metadata": {},
   "outputs": [],
   "source": [
    "# export to csv\n",
    "df = pd.DataFrame()\n",
    "\n",
    "df[\"sin\"] = sin\n",
    "df[\"pwm\"] = pwm\n",
    "df[\"param_a\"] = param_a\n",
    "\n",
    "df.to_csv(\"data/pulse_width_mod_square.csv\")"
   ]
  },
  {
   "cell_type": "markdown",
   "id": "72b07a5b",
   "metadata": {},
   "source": [
    "# Pulse-width modulated square fct with sin + cos \n",
    "\n",
    "square fct from sin + pwm with cos\n",
    "\n",
    "- network input: sin + cos + params\n",
    "- network output: square fct"
   ]
  },
  {
   "cell_type": "code",
   "execution_count": null,
   "id": "ff71ad2b",
   "metadata": {},
   "outputs": [],
   "source": [
    "a = 1\n",
    "b = 1 \n",
    "t = np.linspace(0,10, SEQ_LEN, endpoint=False)\n",
    "sin = np.sin(np.pi * a * t)\n",
    "tan = np.tan(np.pi * b * t)\n",
    "pwm = signal.square(tan * 30, duty=(sin + 1)/2)\n",
    "param_a = [a] * SEQ_LEN\n",
    "param_b = [b] * SEQ_LEN\n",
    "\n",
    "plt.figure(figsize=(15, 7.5))\n",
    "plt.subplot(3, 1, 1)\n",
    "plt.plot(t, sin)\n",
    "plt.ylim(-1.5, 1.5)\n",
    "\n",
    "plt.subplot(3, 1, 2)\n",
    "plt.plot(t, tan)\n",
    "plt.ylim(-1.5, 1.5)\n",
    "\n",
    "plt.subplot(3, 1, 3)\n",
    "plt.plot(t, pwm)\n",
    "plt.ylim(-1.5, 1.5)\n"
   ]
  },
  {
   "cell_type": "code",
   "execution_count": null,
   "id": "2ef3a672",
   "metadata": {},
   "outputs": [],
   "source": [
    "# export to csv\n",
    "df = pd.DataFrame()\n",
    "\n",
    "df[\"sin\"] = sin\n",
    "df[\"tan\"] = tan\n",
    "df[\"pwm\"] = squ\n",
    "df[\"param_a\"] = param_a\n",
    "df[\"param_b\"] = param_b\n",
    "\n",
    "df.to_csv(\"data/pulse_width_mod_square_sin_tan.csv\")"
   ]
  },
  {
   "cell_type": "code",
   "execution_count": null,
   "id": "59a71a93",
   "metadata": {},
   "outputs": [],
   "source": []
  }
 ],
 "metadata": {
  "kernelspec": {
   "display_name": "Python 3 (ipykernel)",
   "language": "python",
   "name": "python3"
  },
  "language_info": {
   "codemirror_mode": {
    "name": "ipython",
    "version": 3
   },
   "file_extension": ".py",
   "mimetype": "text/x-python",
   "name": "python",
   "nbconvert_exporter": "python",
   "pygments_lexer": "ipython3",
   "version": "3.9.7"
  }
 },
 "nbformat": 4,
 "nbformat_minor": 5
}
